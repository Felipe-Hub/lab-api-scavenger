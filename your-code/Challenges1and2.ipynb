{
 "cells": [
  {
   "cell_type": "code",
   "execution_count": 1,
   "metadata": {},
   "outputs": [],
   "source": [
    "import requests\n",
    "import json\n",
    "import pandas as pd\n",
    "from requests.auth import HTTPBasicAuth\n",
    "from getpass import getpass\n",
    "\n",
    "url = 'https://api.github.com/repos/ironhack-datalabs/datalis0819'\n",
    "resp = requests.get(url, auth = HTTPBasicAuth('Felipe-Hub', '9857ccf5a1f8f9ee0446f83bf447e98f7ecd67f9'))\n"
   ]
  },
  {
   "cell_type": "code",
   "execution_count": 2,
   "metadata": {},
   "outputs": [
    {
     "data": {
      "text/plain": [
       "{'id': 198647222,\n",
       " 'node_id': 'MDEwOlJlcG9zaXRvcnkxOTg2NDcyMjI=',\n",
       " 'name': 'datalis0819',\n",
       " 'full_name': 'ironhack-datalabs/datalis0819',\n",
       " 'private': False,\n",
       " 'owner': {'login': 'ironhack-datalabs',\n",
       "  'id': 44225188,\n",
       "  'node_id': 'MDEyOk9yZ2FuaXphdGlvbjQ0MjI1MTg4',\n",
       "  'avatar_url': 'https://avatars2.githubusercontent.com/u/44225188?v=4',\n",
       "  'gravatar_id': '',\n",
       "  'url': 'https://api.github.com/users/ironhack-datalabs',\n",
       "  'html_url': 'https://github.com/ironhack-datalabs',\n",
       "  'followers_url': 'https://api.github.com/users/ironhack-datalabs/followers',\n",
       "  'following_url': 'https://api.github.com/users/ironhack-datalabs/following{/other_user}',\n",
       "  'gists_url': 'https://api.github.com/users/ironhack-datalabs/gists{/gist_id}',\n",
       "  'starred_url': 'https://api.github.com/users/ironhack-datalabs/starred{/owner}{/repo}',\n",
       "  'subscriptions_url': 'https://api.github.com/users/ironhack-datalabs/subscriptions',\n",
       "  'organizations_url': 'https://api.github.com/users/ironhack-datalabs/orgs',\n",
       "  'repos_url': 'https://api.github.com/users/ironhack-datalabs/repos',\n",
       "  'events_url': 'https://api.github.com/users/ironhack-datalabs/events{/privacy}',\n",
       "  'received_events_url': 'https://api.github.com/users/ironhack-datalabs/received_events',\n",
       "  'type': 'Organization',\n",
       "  'site_admin': False},\n",
       " 'html_url': 'https://github.com/ironhack-datalabs/datalis0819',\n",
       " 'description': 'Data Analytics Full Time Lisbon, August 2019',\n",
       " 'fork': False,\n",
       " 'url': 'https://api.github.com/repos/ironhack-datalabs/datalis0819',\n",
       " 'forks_url': 'https://api.github.com/repos/ironhack-datalabs/datalis0819/forks',\n",
       " 'keys_url': 'https://api.github.com/repos/ironhack-datalabs/datalis0819/keys{/key_id}',\n",
       " 'collaborators_url': 'https://api.github.com/repos/ironhack-datalabs/datalis0819/collaborators{/collaborator}',\n",
       " 'teams_url': 'https://api.github.com/repos/ironhack-datalabs/datalis0819/teams',\n",
       " 'hooks_url': 'https://api.github.com/repos/ironhack-datalabs/datalis0819/hooks',\n",
       " 'issue_events_url': 'https://api.github.com/repos/ironhack-datalabs/datalis0819/issues/events{/number}',\n",
       " 'events_url': 'https://api.github.com/repos/ironhack-datalabs/datalis0819/events',\n",
       " 'assignees_url': 'https://api.github.com/repos/ironhack-datalabs/datalis0819/assignees{/user}',\n",
       " 'branches_url': 'https://api.github.com/repos/ironhack-datalabs/datalis0819/branches{/branch}',\n",
       " 'tags_url': 'https://api.github.com/repos/ironhack-datalabs/datalis0819/tags',\n",
       " 'blobs_url': 'https://api.github.com/repos/ironhack-datalabs/datalis0819/git/blobs{/sha}',\n",
       " 'git_tags_url': 'https://api.github.com/repos/ironhack-datalabs/datalis0819/git/tags{/sha}',\n",
       " 'git_refs_url': 'https://api.github.com/repos/ironhack-datalabs/datalis0819/git/refs{/sha}',\n",
       " 'trees_url': 'https://api.github.com/repos/ironhack-datalabs/datalis0819/git/trees{/sha}',\n",
       " 'statuses_url': 'https://api.github.com/repos/ironhack-datalabs/datalis0819/statuses/{sha}',\n",
       " 'languages_url': 'https://api.github.com/repos/ironhack-datalabs/datalis0819/languages',\n",
       " 'stargazers_url': 'https://api.github.com/repos/ironhack-datalabs/datalis0819/stargazers',\n",
       " 'contributors_url': 'https://api.github.com/repos/ironhack-datalabs/datalis0819/contributors',\n",
       " 'subscribers_url': 'https://api.github.com/repos/ironhack-datalabs/datalis0819/subscribers',\n",
       " 'subscription_url': 'https://api.github.com/repos/ironhack-datalabs/datalis0819/subscription',\n",
       " 'commits_url': 'https://api.github.com/repos/ironhack-datalabs/datalis0819/commits{/sha}',\n",
       " 'git_commits_url': 'https://api.github.com/repos/ironhack-datalabs/datalis0819/git/commits{/sha}',\n",
       " 'comments_url': 'https://api.github.com/repos/ironhack-datalabs/datalis0819/comments{/number}',\n",
       " 'issue_comment_url': 'https://api.github.com/repos/ironhack-datalabs/datalis0819/issues/comments{/number}',\n",
       " 'contents_url': 'https://api.github.com/repos/ironhack-datalabs/datalis0819/contents/{+path}',\n",
       " 'compare_url': 'https://api.github.com/repos/ironhack-datalabs/datalis0819/compare/{base}...{head}',\n",
       " 'merges_url': 'https://api.github.com/repos/ironhack-datalabs/datalis0819/merges',\n",
       " 'archive_url': 'https://api.github.com/repos/ironhack-datalabs/datalis0819/{archive_format}{/ref}',\n",
       " 'downloads_url': 'https://api.github.com/repos/ironhack-datalabs/datalis0819/downloads',\n",
       " 'issues_url': 'https://api.github.com/repos/ironhack-datalabs/datalis0819/issues{/number}',\n",
       " 'pulls_url': 'https://api.github.com/repos/ironhack-datalabs/datalis0819/pulls{/number}',\n",
       " 'milestones_url': 'https://api.github.com/repos/ironhack-datalabs/datalis0819/milestones{/number}',\n",
       " 'notifications_url': 'https://api.github.com/repos/ironhack-datalabs/datalis0819/notifications{?since,all,participating}',\n",
       " 'labels_url': 'https://api.github.com/repos/ironhack-datalabs/datalis0819/labels{/name}',\n",
       " 'releases_url': 'https://api.github.com/repos/ironhack-datalabs/datalis0819/releases{/id}',\n",
       " 'deployments_url': 'https://api.github.com/repos/ironhack-datalabs/datalis0819/deployments',\n",
       " 'created_at': '2019-07-24T14:02:51Z',\n",
       " 'updated_at': '2019-08-26T07:33:59Z',\n",
       " 'pushed_at': '2019-08-15T09:10:55Z',\n",
       " 'git_url': 'git://github.com/ironhack-datalabs/datalis0819.git',\n",
       " 'ssh_url': 'git@github.com:ironhack-datalabs/datalis0819.git',\n",
       " 'clone_url': 'https://github.com/ironhack-datalabs/datalis0819.git',\n",
       " 'svn_url': 'https://github.com/ironhack-datalabs/datalis0819',\n",
       " 'homepage': None,\n",
       " 'size': 43972,\n",
       " 'stargazers_count': 1,\n",
       " 'watchers_count': 1,\n",
       " 'language': 'Jupyter Notebook',\n",
       " 'has_issues': True,\n",
       " 'has_projects': True,\n",
       " 'has_downloads': True,\n",
       " 'has_wiki': True,\n",
       " 'has_pages': False,\n",
       " 'forks_count': 14,\n",
       " 'mirror_url': None,\n",
       " 'archived': False,\n",
       " 'disabled': False,\n",
       " 'open_issues_count': 0,\n",
       " 'license': {'key': 'agpl-3.0',\n",
       "  'name': 'GNU Affero General Public License v3.0',\n",
       "  'spdx_id': 'AGPL-3.0',\n",
       "  'url': 'https://api.github.com/licenses/agpl-3.0',\n",
       "  'node_id': 'MDc6TGljZW5zZTE='},\n",
       " 'forks': 14,\n",
       " 'open_issues': 0,\n",
       " 'watchers': 1,\n",
       " 'default_branch': 'master',\n",
       " 'permissions': {'admin': False, 'push': False, 'pull': True},\n",
       " 'organization': {'login': 'ironhack-datalabs',\n",
       "  'id': 44225188,\n",
       "  'node_id': 'MDEyOk9yZ2FuaXphdGlvbjQ0MjI1MTg4',\n",
       "  'avatar_url': 'https://avatars2.githubusercontent.com/u/44225188?v=4',\n",
       "  'gravatar_id': '',\n",
       "  'url': 'https://api.github.com/users/ironhack-datalabs',\n",
       "  'html_url': 'https://github.com/ironhack-datalabs',\n",
       "  'followers_url': 'https://api.github.com/users/ironhack-datalabs/followers',\n",
       "  'following_url': 'https://api.github.com/users/ironhack-datalabs/following{/other_user}',\n",
       "  'gists_url': 'https://api.github.com/users/ironhack-datalabs/gists{/gist_id}',\n",
       "  'starred_url': 'https://api.github.com/users/ironhack-datalabs/starred{/owner}{/repo}',\n",
       "  'subscriptions_url': 'https://api.github.com/users/ironhack-datalabs/subscriptions',\n",
       "  'organizations_url': 'https://api.github.com/users/ironhack-datalabs/orgs',\n",
       "  'repos_url': 'https://api.github.com/users/ironhack-datalabs/repos',\n",
       "  'events_url': 'https://api.github.com/users/ironhack-datalabs/events{/privacy}',\n",
       "  'received_events_url': 'https://api.github.com/users/ironhack-datalabs/received_events',\n",
       "  'type': 'Organization',\n",
       "  'site_admin': False},\n",
       " 'network_count': 14,\n",
       " 'subscribers_count': 2}"
      ]
     },
     "execution_count": 2,
     "metadata": {},
     "output_type": "execute_result"
    }
   ],
   "source": [
    "resp.json()"
   ]
  },
  {
   "cell_type": "code",
   "execution_count": 3,
   "metadata": {
    "scrolled": false
   },
   "outputs": [
    {
     "data": {
      "text/plain": [
       "['Jupyter Notebook', 'HTML', 'Python']"
      ]
     },
     "execution_count": 3,
     "metadata": {},
     "output_type": "execute_result"
    }
   ],
   "source": [
    "#Challenge 1\n",
    "url2 = 'https://api.github.com/repos/ironhack-datalabs/datalis0819/languages'\n",
    "resp2 = requests.get(url2, auth = HTTPBasicAuth('Felipe-Hub', '9857ccf5a1f8f9ee0446f83bf447e98f7ecd67f9'))\n",
    "\n",
    "languages = list(resp2.json())\n",
    "languages"
   ]
  },
  {
   "cell_type": "code",
   "execution_count": null,
   "metadata": {},
   "outputs": [],
   "source": []
  },
  {
   "cell_type": "code",
   "execution_count": 5,
   "metadata": {},
   "outputs": [],
   "source": [
    "# Challenge 2\n",
    "#com_url = list(map(lambda x: 'https://api.github.com/repos/ironhack-datalabs/datalis0819/' + x[40:-14] + '/stats/participation', ds['commits_url']))\n",
    "#commits = list(\n",
    "#    map(lambda x: requests.get(x, auth = HTTPBasicAuth(\n",
    "#        'Felipe-Hub','9857ccf5a1f8f9ee0446f83bf447e98f7ecd67f9')).json(), com_url))\n",
    "\n",
    "url3 = 'https://api.github.com/repos/ironhack-datalabs/datalis0819/stats/participation'\n",
    "commits = requests.get(url3, auth = HTTPBasicAuth('Felipe-Hub','9857ccf5a1f8f9ee0446f83bf447e98f7ecd67f9'))\n"
   ]
  },
  {
   "cell_type": "code",
   "execution_count": 6,
   "metadata": {},
   "outputs": [
    {
     "data": {
      "text/plain": [
       "{'all': [0,\n",
       "  0,\n",
       "  0,\n",
       "  0,\n",
       "  0,\n",
       "  0,\n",
       "  0,\n",
       "  0,\n",
       "  0,\n",
       "  0,\n",
       "  0,\n",
       "  0,\n",
       "  0,\n",
       "  0,\n",
       "  0,\n",
       "  0,\n",
       "  0,\n",
       "  0,\n",
       "  0,\n",
       "  0,\n",
       "  0,\n",
       "  0,\n",
       "  0,\n",
       "  0,\n",
       "  0,\n",
       "  0,\n",
       "  0,\n",
       "  0,\n",
       "  0,\n",
       "  0,\n",
       "  0,\n",
       "  0,\n",
       "  0,\n",
       "  0,\n",
       "  0,\n",
       "  0,\n",
       "  0,\n",
       "  21,\n",
       "  2,\n",
       "  6,\n",
       "  27,\n",
       "  0,\n",
       "  0,\n",
       "  0,\n",
       "  0,\n",
       "  0,\n",
       "  0,\n",
       "  0,\n",
       "  0,\n",
       "  0,\n",
       "  0,\n",
       "  0],\n",
       " 'owner': [0,\n",
       "  0,\n",
       "  0,\n",
       "  0,\n",
       "  0,\n",
       "  0,\n",
       "  0,\n",
       "  0,\n",
       "  0,\n",
       "  0,\n",
       "  0,\n",
       "  0,\n",
       "  0,\n",
       "  0,\n",
       "  0,\n",
       "  0,\n",
       "  0,\n",
       "  0,\n",
       "  0,\n",
       "  0,\n",
       "  0,\n",
       "  0,\n",
       "  0,\n",
       "  0,\n",
       "  0,\n",
       "  0,\n",
       "  0,\n",
       "  0,\n",
       "  0,\n",
       "  0,\n",
       "  0,\n",
       "  0,\n",
       "  0,\n",
       "  0,\n",
       "  0,\n",
       "  0,\n",
       "  0,\n",
       "  0,\n",
       "  0,\n",
       "  0,\n",
       "  0,\n",
       "  0,\n",
       "  0,\n",
       "  0,\n",
       "  0,\n",
       "  0,\n",
       "  0,\n",
       "  0,\n",
       "  0,\n",
       "  0,\n",
       "  0,\n",
       "  0]}"
      ]
     },
     "execution_count": 6,
     "metadata": {},
     "output_type": "execute_result"
    }
   ],
   "source": [
    "commits = commits.json()\n",
    "commits"
   ]
  },
  {
   "cell_type": "code",
   "execution_count": 7,
   "metadata": {},
   "outputs": [
    {
     "data": {
      "text/plain": [
       "0"
      ]
     },
     "execution_count": 7,
     "metadata": {},
     "output_type": "execute_result"
    }
   ],
   "source": [
    "x = commits['all'][-1]\n",
    "x"
   ]
  },
  {
   "cell_type": "code",
   "execution_count": null,
   "metadata": {},
   "outputs": [],
   "source": []
  },
  {
   "cell_type": "code",
   "execution_count": null,
   "metadata": {},
   "outputs": [],
   "source": []
  },
  {
   "cell_type": "code",
   "execution_count": null,
   "metadata": {},
   "outputs": [],
   "source": []
  },
  {
   "cell_type": "code",
   "execution_count": null,
   "metadata": {},
   "outputs": [],
   "source": []
  },
  {
   "cell_type": "code",
   "execution_count": null,
   "metadata": {},
   "outputs": [],
   "source": []
  }
 ],
 "metadata": {
  "kernelspec": {
   "display_name": "Python 3",
   "language": "python",
   "name": "python3"
  },
  "language_info": {
   "codemirror_mode": {
    "name": "ipython",
    "version": 3
   },
   "file_extension": ".py",
   "mimetype": "text/x-python",
   "name": "python",
   "nbconvert_exporter": "python",
   "pygments_lexer": "ipython3",
   "version": "3.7.4"
  }
 },
 "nbformat": 4,
 "nbformat_minor": 2
}
